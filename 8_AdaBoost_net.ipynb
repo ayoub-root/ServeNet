{
 "cells": [
  {
   "cell_type": "code",
   "execution_count": 21,
   "metadata": {
    "collapsed": true
   },
   "outputs": [],
   "source": [
    "import numpy as np\n",
    "from sklearn import preprocessing\n",
    "from sklearn.feature_extraction.text import TfidfVectorizer\n",
    "from pandas import read_hdf, concat\n",
    "from sklearn.metrics import f1_score, accuracy_score\n",
    "import matplotlib.pyplot as plt\n",
    "from time import time\n",
    "\n",
    "from sklearn.ensemble import AdaBoostClassifier\n",
    "from sklearn.tree import DecisionTreeClassifier\n",
    "\n",
    "%matplotlib inline "
   ]
  },
  {
   "cell_type": "code",
   "execution_count": 22,
   "metadata": {},
   "outputs": [],
   "source": [
    "def type2idx(Data_c,Type_c):\n",
    "    n_samples=len(Data_c)\n",
    "    target = np.empty((n_samples,), dtype=np.int)\n",
    "    for idx in range(n_samples):\n",
    "        if Data_c[idx] in Type_c:\n",
    "            target[idx]=Type_c.index(Data_c[idx])\n",
    "        else:\n",
    "            target[idx] = -1\n",
    "    return target"
   ]
  },
  {
   "cell_type": "code",
   "execution_count": 23,
   "metadata": {},
   "outputs": [],
   "source": [
    "url = 'D:\\python_projects\\ServeNet_others\\data\\\\ramdom_categorg_percent\\RandomSplittedByCatagories9.h5'\n",
    "TrainServices = read_hdf(url, key='Train')\n",
    "TestServices = read_hdf(url, key='Test')\n",
    "AllData = concat([TrainServices, TestServices])"
   ]
  },
  {
   "cell_type": "code",
   "execution_count": 24,
   "metadata": {},
   "outputs": [],
   "source": [
    "data_train = list(TrainServices['Service Desciption'])\n",
    "target_train = list(TrainServices['Service Classification'])\n",
    "data_test = list(TestServices['Service Desciption'])\n",
    "target_test = list(TestServices['Service Classification'])\n",
    "\n",
    "X_train = data_train\n",
    "Y_train = target_train\n",
    "X_test = data_test\n",
    "Y_test = target_test"
   ]
  },
  {
   "cell_type": "code",
   "execution_count": 25,
   "metadata": {},
   "outputs": [],
   "source": [
    "Type_c = (list(np.unique(target_train)))\n",
    "# Type_c"
   ]
  },
  {
   "cell_type": "code",
   "execution_count": 26,
   "metadata": {},
   "outputs": [],
   "source": [
    "encoder = preprocessing.LabelEncoder()\n",
    "Y_train = encoder.fit_transform(Y_train)\n",
    "Y_test = encoder.fit_transform(Y_test)"
   ]
  },
  {
   "cell_type": "code",
   "execution_count": 27,
   "metadata": {},
   "outputs": [
    {
     "data": {
      "text/plain": [
       "TfidfVectorizer(analyzer='word', binary=False, decode_error='strict',\n        dtype=<class 'numpy.int64'>, encoding='utf-8', input='content',\n        lowercase=True, max_df=1.0, max_features=1500, min_df=1,\n        ngram_range=(1, 1), norm='l2', preprocessor=None, smooth_idf=True,\n        stop_words='english', strip_accents=None, sublinear_tf=True,\n        token_pattern='(?u)\\\\b\\\\w\\\\w+\\\\b', tokenizer=None, use_idf=True,\n        vocabulary=None)"
      ]
     },
     "execution_count": 27,
     "metadata": {},
     "output_type": "execute_result"
    }
   ],
   "source": [
    "max_features = 1500\n",
    "tfidf_vectorizer = TfidfVectorizer(sublinear_tf=True, stop_words='english', max_features=max_features)\n",
    "tfidf_vectorizer.fit(list(AllData['Service Desciption']))"
   ]
  },
  {
   "cell_type": "code",
   "execution_count": 28,
   "metadata": {},
   "outputs": [],
   "source": [
    "X_train = tfidf_vectorizer.transform(X_train)\n",
    "X_test = tfidf_vectorizer.transform(X_test)"
   ]
  },
  {
   "cell_type": "code",
   "execution_count": 29,
   "metadata": {},
   "outputs": [
    {
     "name": "stdout",
     "output_type": "stream",
     "text": [
      "Train time:  104.25097441673279\n"
     ]
    }
   ],
   "source": [
    "clf = AdaBoostClassifier(DecisionTreeClassifier(max_depth=6), n_estimators=500, learning_rate=1.5)\n",
    "\n",
    "t0 = time()\n",
    "clf.fit(X_train, Y_train)\n",
    "t1 = time()\n",
    "print(\"Train time: \", t1 - t0)"
   ]
  },
  {
   "cell_type": "code",
   "execution_count": 30,
   "metadata": {},
   "outputs": [
    {
     "name": "stdout",
     "output_type": "stream",
     "text": [
      "============================================================\nTest top5 acc:0.659874,train top5  acc:0.984119\nTest top1 acc:0.348860,train top1 acc:0.588945\nF1_score:0.659874\n============================================================\n"
     ]
    }
   ],
   "source": [
    "train_top5 = clf.predict_proba(X_train)\n",
    "train_top1 = clf.predict(X_train)\n",
    "\n",
    "test_pre_top5 = clf.predict_proba(X_test)\n",
    "test_pre_top1 = clf.predict(X_test)\n",
    "\n",
    "ret = np.empty((len(Y_test),), dtype=np.int)\n",
    "train_ret = np.empty((len(Y_train),), dtype=np.int)\n",
    "for i in range(len(Y_test)):\n",
    "    Top5 = sorted(zip(clf.classes_, test_pre_top5[i]), key=lambda x: x[1])[-5:]\n",
    "    Top5=list(map(lambda x: x[0], Top5))\n",
    "\n",
    "    if Y_test[i] in Top5:\n",
    "        ret[i] = Y_test[i]\n",
    "    else:\n",
    "        ret[i] = Top5[-1]\n",
    "\n",
    "for i in range(len(Y_train)):\n",
    "    Top5_train = sorted(zip(clf.classes_, train_top5[i]), key=lambda x: x[1])[-5:]\n",
    "    Top5_train = list(map(lambda x: x[0], Top5_train))\n",
    "\n",
    "    if Y_train[i] in Top5_train:\n",
    "        train_ret[i] = Y_train[i]\n",
    "    else:\n",
    "        train_ret[i] = Top5_train[-1]\n",
    "\n",
    "f1_s = f1_score(Y_test, ret, average='micro')\n",
    "\n",
    "print(\"=\" * 60)\n",
    "print(\"Test top5 acc:%f,train top5  acc:%f\" % (accuracy_score(Y_test, ret), accuracy_score(Y_train, train_ret)))\n",
    "print(\"Test top1 acc:%f,train top1 acc:%f\" % ( accuracy_score(Y_test, test_pre_top1),\n",
    "                                               accuracy_score(Y_train, train_top1)))\n",
    "print(\"F1_score:%f\" % float(f1_s))\n",
    "print(\"=\" * 60)"
   ]
  },
  {
   "cell_type": "code",
   "execution_count": 31,
   "metadata": {},
   "outputs": [
    {
     "name": "stdout",
     "output_type": "stream",
     "text": [
      "Advertising (42): 0.619\nAnalytics (23): 0.217\nApplication Development (23): 0.348\nBackend (27): 0.222\nBanking (20): 0.350\nBitcoin (28): 0.821\nChat (16): 0.375\nCloud (33): 0.545\nData (28): 0.214\nDatabase (27): 0.185\nDomains (16): 0.625\nEducation (41): 0.415\nEmail (48): 0.667\nEnterprise (79): 0.785\nEntertainment (19): 0.158\nEvents (21): 0.524\nFile Sharing (16): 0.438\nFinancial (130): 0.923\nGames (39): 0.590\nGovernment (55): 0.564\nImages (15): 0.333\nInternet of Things (22): 0.500\nMapping (67): 0.746\nMarketing (16): 0.438\nMedia (16): 0.188\nMedical (21): 0.286\nMessaging (97): 0.856\nMusic (37): 0.757\nNews Services (16): 0.188\nOther (29): 0.172\nPayments (85): 0.847\nPhotos (35): 0.514\nProject Management (28): 0.286\nReal Estate (21): 0.476\nReference (47): 0.617\nScience (55): 0.855\nSearch (43): 0.744\nSecurity (47): 0.617\nShipping (26): 0.500\nSocial (80): 0.850\nSports (43): 0.628\nStocks (19): 0.684\nStorage (19): 0.211\nTelephony (57): 0.684\nTools (146): 0.973\nTransportation (42): 0.786\nTravel (45): 0.644\nVideo (47): 0.723\nWeather (23): 0.696\neCommerce (86): 0.814\n"
     ]
    }
   ],
   "source": [
    "type_c_index = type2idx(Type_c, Type_c)\n",
    "\n",
    "result_dict = {}\n",
    "total_dict = {}\n",
    "for idx in type_c_index:\n",
    "    category = Type_c[idx]\n",
    "    total_count = account = 0\n",
    "    for i in range(len(Y_test)):\n",
    "        if Y_test[i] == idx:\n",
    "            total_count += 1\n",
    "            if Y_test[i] == ret[i]:\n",
    "                account += 1\n",
    "\n",
    "    result_dict[category] = account / total_count * 1.\n",
    "    total_dict[category] = total_count\n",
    "\n",
    "for cate in result_dict.keys():\n",
    "    total_account = total_dict[cate]\n",
    "    acc = result_dict[cate]\n",
    "    print(\"%s (%d): %.3f\" % (cate, total_account, acc))"
   ]
  },
  {
   "cell_type": "code",
   "execution_count": null,
   "metadata": {},
   "outputs": [],
   "source": []
  }
 ],
 "metadata": {
  "kernelspec": {
   "display_name": "Python 2",
   "language": "python",
   "name": "python2"
  },
  "language_info": {
   "codemirror_mode": {
    "name": "ipython",
    "version": 2
   },
   "file_extension": ".py",
   "mimetype": "text/x-python",
   "name": "python",
   "nbconvert_exporter": "python",
   "pygments_lexer": "ipython2",
   "version": "2.7.6"
  }
 },
 "nbformat": 4,
 "nbformat_minor": 0
}
